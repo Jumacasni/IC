{
  "nbformat": 4,
  "nbformat_minor": 0,
  "metadata": {
    "colab": {
      "name": "version3.ipynb",
      "provenance": [],
      "collapsed_sections": []
    },
    "kernelspec": {
      "display_name": "Python 3",
      "name": "python3"
    }
  },
  "cells": [
    {
      "cell_type": "markdown",
      "metadata": {
        "id": "3beJslDC9ACn"
      },
      "source": [
        "# VERSIÓN 3"
      ]
    },
    {
      "cell_type": "code",
      "metadata": {
        "id": "5zyExMUR9ACo"
      },
      "source": [
        "import matplotlib.pyplot as plt\n",
        "import tensorflow as tf\n",
        "import numpy as np\n",
        "import time\n",
        "from tensorflow.python.keras.models import Sequential\n",
        "from tensorflow.python.keras.layers import Dense\n",
        "from keras.utils import to_categorical"
      ],
      "execution_count": null,
      "outputs": []
    },
    {
      "cell_type": "code",
      "metadata": {
        "id": "4w9WuaKg9ACp"
      },
      "source": [
        "# Se cargan las imágenes del dataset MNIST\n",
        "(training_images, training_labels), (test_images, test_labels) = tf.keras.datasets.mnist.load_data(path=\"mnist.npz\")"
      ],
      "execution_count": null,
      "outputs": []
    },
    {
      "cell_type": "code",
      "metadata": {
        "id": "T9rijrFT9ACp"
      },
      "source": [
        "# Función que visualiza un ejemplo\n",
        "def visualize(sample):\n",
        "  image = training_images[sample]\n",
        "  fig = plt.figure\n",
        "  plt.imshow(image.reshape(28,28), cmap='gray')\n",
        "  plt.show()"
      ],
      "execution_count": null,
      "outputs": []
    },
    {
      "cell_type": "markdown",
      "metadata": {
        "id": "yGRSsrOG9ACp"
      },
      "source": [
        "## PREPARACIÓN DE LOS DATOS"
      ]
    },
    {
      "cell_type": "code",
      "metadata": {
        "id": "ebfKRqzx9ACp"
      },
      "source": [
        "# Se cambia el tipo de los datos a float32\n",
        "training_images = training_images.astype(\"float32\")\n",
        "test_images = test_images.astype(\"float32\")\n",
        "\n",
        "# Las imágenes pasan de matriz 28x28 a vector 784x1\n",
        "training_images = training_images.reshape(60000, 784)\n",
        "test_images = test_images.reshape(10000, 784)\n",
        "\n",
        "# Normalización: los datos pasan a tener un valor entre [0, 1]\n",
        "training_images = training_images / 255\n",
        "test_images = test_images / 255"
      ],
      "execution_count": null,
      "outputs": []
    },
    {
      "cell_type": "markdown",
      "metadata": {
        "id": "lcu1CKAf9ACp"
      },
      "source": [
        "## CONJUNTO DE VALIDACIÓN"
      ]
    },
    {
      "cell_type": "code",
      "metadata": {
        "id": "T4g2Slnu9ACp"
      },
      "source": [
        "# El conjunto de validación es el 20% del conjunto de entrenamiento\n",
        "validation_images = training_images[-12000:]\n",
        "validation_labels = training_labels[-12000:]\n",
        "\n",
        "training_images = training_images[:48000]\n",
        "training_labels = training_labels[:48000]\n"
      ],
      "execution_count": null,
      "outputs": []
    },
    {
      "cell_type": "markdown",
      "metadata": {
        "id": "EBt69y6e9ACp"
      },
      "source": [
        "## ENTRENAMIENTO"
      ]
    },
    {
      "cell_type": "code",
      "metadata": {
        "colab": {
          "base_uri": "https://localhost:8080/"
        },
        "id": "CCqEGfqC9ACp",
        "outputId": "89645c0a-8b85-4444-bc8f-8835e61f6881"
      },
      "source": [
        "model = Sequential()\n",
        "\n",
        "# Se añaden las capas\n",
        "model.add(Dense(256, activation='relu', input_shape=(784,)))\n",
        "model.add(Dense(10, activation='softmax'))\n",
        "\n",
        "# Se compila el modelo\n",
        "hist = model.compile(\n",
        "  optimizer='rmsprop',\n",
        "  loss='categorical_crossentropy',\n",
        "  metrics=['accuracy'],\n",
        ")\n",
        "\n",
        "# Early Stopping cuando val_loss deja de mejorar\n",
        "earlyStopping = tf.keras.callbacks.EarlyStopping(monitor='loss', patience=0)\n",
        "\n",
        "# Se entrena el modelo\n",
        "start = time.time()\n",
        "\n",
        "hist = model.fit(\n",
        "  training_images,\n",
        "  to_categorical(training_labels),\n",
        "  epochs=30,\n",
        "  batch_size=64,\n",
        "  validation_data=(validation_images,to_categorical(validation_labels)),\n",
        "  callbacks=[earlyStopping]\n",
        ")\n",
        "\n",
        "end = time.time()\n",
        "\n",
        "# Se evalua la red neuronal\n",
        "eval = model.evaluate(\n",
        "  test_images,\n",
        "  to_categorical(test_labels)\n",
        ")"
      ],
      "execution_count": null,
      "outputs": [
        {
          "output_type": "stream",
          "text": [
            "Epoch 1/30\n",
            "750/750 [==============================] - 3s 4ms/step - loss: 0.2772 - accuracy: 0.9200 - val_loss: 0.1492 - val_accuracy: 0.9595\n",
            "Epoch 2/30\n",
            "750/750 [==============================] - 3s 4ms/step - loss: 0.1211 - accuracy: 0.9641 - val_loss: 0.1126 - val_accuracy: 0.9667\n",
            "Epoch 3/30\n",
            "750/750 [==============================] - 3s 4ms/step - loss: 0.0827 - accuracy: 0.9758 - val_loss: 0.1009 - val_accuracy: 0.9692\n",
            "Epoch 4/30\n",
            "750/750 [==============================] - 3s 4ms/step - loss: 0.0614 - accuracy: 0.9820 - val_loss: 0.0935 - val_accuracy: 0.9740\n",
            "Epoch 5/30\n",
            "750/750 [==============================] - 3s 4ms/step - loss: 0.0483 - accuracy: 0.9855 - val_loss: 0.0901 - val_accuracy: 0.9759\n",
            "Epoch 6/30\n",
            "750/750 [==============================] - 3s 4ms/step - loss: 0.0390 - accuracy: 0.9887 - val_loss: 0.0887 - val_accuracy: 0.9756\n",
            "Epoch 7/30\n",
            "750/750 [==============================] - 3s 4ms/step - loss: 0.0304 - accuracy: 0.9911 - val_loss: 0.0887 - val_accuracy: 0.9778\n",
            "Epoch 8/30\n",
            "750/750 [==============================] - 3s 4ms/step - loss: 0.0242 - accuracy: 0.9936 - val_loss: 0.0937 - val_accuracy: 0.9778\n",
            "Epoch 9/30\n",
            "750/750 [==============================] - 3s 4ms/step - loss: 0.0199 - accuracy: 0.9942 - val_loss: 0.0982 - val_accuracy: 0.9766\n",
            "Epoch 10/30\n",
            "750/750 [==============================] - 3s 4ms/step - loss: 0.0161 - accuracy: 0.9955 - val_loss: 0.0992 - val_accuracy: 0.9772\n",
            "Epoch 11/30\n",
            "750/750 [==============================] - 3s 4ms/step - loss: 0.0132 - accuracy: 0.9964 - val_loss: 0.1070 - val_accuracy: 0.9777\n",
            "Epoch 12/30\n",
            "750/750 [==============================] - 3s 4ms/step - loss: 0.0106 - accuracy: 0.9970 - val_loss: 0.1034 - val_accuracy: 0.9779\n",
            "Epoch 13/30\n",
            "750/750 [==============================] - 3s 4ms/step - loss: 0.0087 - accuracy: 0.9975 - val_loss: 0.1093 - val_accuracy: 0.9770\n",
            "Epoch 14/30\n",
            "750/750 [==============================] - 3s 4ms/step - loss: 0.0068 - accuracy: 0.9982 - val_loss: 0.1124 - val_accuracy: 0.9775\n",
            "Epoch 15/30\n",
            "750/750 [==============================] - 3s 4ms/step - loss: 0.0053 - accuracy: 0.9985 - val_loss: 0.1168 - val_accuracy: 0.9778\n",
            "Epoch 16/30\n",
            "750/750 [==============================] - 3s 4ms/step - loss: 0.0042 - accuracy: 0.9989 - val_loss: 0.1191 - val_accuracy: 0.9774\n",
            "Epoch 17/30\n",
            "750/750 [==============================] - 3s 4ms/step - loss: 0.0037 - accuracy: 0.9989 - val_loss: 0.1285 - val_accuracy: 0.9772\n",
            "Epoch 18/30\n",
            "750/750 [==============================] - 3s 4ms/step - loss: 0.0031 - accuracy: 0.9992 - val_loss: 0.1339 - val_accuracy: 0.9768\n",
            "Epoch 19/30\n",
            "750/750 [==============================] - 3s 4ms/step - loss: 0.0023 - accuracy: 0.9993 - val_loss: 0.1262 - val_accuracy: 0.9782\n",
            "Epoch 20/30\n",
            "750/750 [==============================] - 3s 4ms/step - loss: 0.0019 - accuracy: 0.9995 - val_loss: 0.1457 - val_accuracy: 0.9774\n",
            "Epoch 21/30\n",
            "750/750 [==============================] - 3s 4ms/step - loss: 0.0013 - accuracy: 0.9996 - val_loss: 0.1462 - val_accuracy: 0.9770\n",
            "Epoch 22/30\n",
            "750/750 [==============================] - 3s 4ms/step - loss: 0.0014 - accuracy: 0.9995 - val_loss: 0.1398 - val_accuracy: 0.9787\n",
            "313/313 [==============================] - 0s 1ms/step - loss: 0.1110 - accuracy: 0.9810\n"
          ],
          "name": "stdout"
        }
      ]
    },
    {
      "cell_type": "markdown",
      "metadata": {
        "id": "5shq-V6a9ACs"
      },
      "source": [
        "## PORCENTAJE DE ERROR"
      ]
    },
    {
      "cell_type": "code",
      "metadata": {
        "colab": {
          "base_uri": "https://localhost:8080/",
          "height": 597
        },
        "id": "8uIfKKOL9ACs",
        "outputId": "fa909417-f14c-4157-8909-1ac2f1682058"
      },
      "source": [
        "\n",
        "accuracy_val = eval[1]\n",
        "error_val = (1 - accuracy_val)*100\n",
        "\n",
        "accuracy_train = hist.history['accuracy'][-1]\n",
        "error_train = (1 - accuracy_train)*100\n",
        "\n",
        "print(\"Porcentaje de error sobre el conjunto de entrenamiento: \"+str(round(error_train,2)))\n",
        "print(\"Porcentaje de error sobre el conjunto de prueba: \"+str(round(error_val,2)))\n",
        "print(\"Tiempo transcurrido: \"+str(round(end - start,2)))\n",
        "\n",
        "epochs = range(len(hist.history['accuracy']))\n",
        "loss = hist.history['loss']\n",
        "loss_val = hist.history['val_loss']\n",
        "plt.plot(epochs, loss, 'b', label='Training loss')\n",
        "plt.plot(epochs, loss_val, 'r', label='Validation loss')\n",
        "plt.title(\"Loss\")\n",
        "plt.legend()\n",
        "plt.show()\n",
        "accuracy = hist.history['accuracy']\n",
        "accuracy_val = hist.history['val_accuracy']\n",
        "plt.plot(epochs, accuracy, 'b', label='Training accuracy')\n",
        "plt.plot(epochs, accuracy_val, 'r', label='Validation accuracy')\n",
        "plt.legend()\n",
        "plt.title(\"Accuracy\")\n",
        "plt.show()"
      ],
      "execution_count": null,
      "outputs": [
        {
          "output_type": "stream",
          "text": [
            "Porcentaje de error sobre el conjunto de entrenamiento: 0.05\n",
            "Porcentaje de error sobre el conjunto de prueba: 1.9\n",
            "Tiempo transcurrido: 72.08\n"
          ],
          "name": "stdout"
        },
        {
          "output_type": "display_data",
          "data": {
            "image/png": "[encoded data removed]",
            "text/plain": [
              "<Figure size 432x288 with 1 Axes>"
            ]
          },
          "metadata": {
            "tags": [],
            "needs_background": "light"
          }
        },
        {
          "output_type": "display_data",
          "data": {
            "image/png": "[encoded data removed]",
            "text/plain": [
              "<Figure size 432x288 with 1 Axes>"
            ]
          },
          "metadata": {
            "tags": [],
            "needs_background": "light"
          }
        }
      ]
    },
    {
      "cell_type": "markdown",
      "metadata": {
        "id": "WhhXEsBK9ACs"
      },
      "source": [
        "## VISUALIZACIÓN DE LA RED"
      ]
    },
    {
      "cell_type": "code",
      "metadata": {
        "colab": {
          "base_uri": "https://localhost:8080/",
          "height": 312
        },
        "id": "bJxWEzPp9ACt",
        "outputId": "f345b51b-5b8a-4b96-eedd-25a1cce5524a"
      },
      "source": [
        "tf.keras.utils.plot_model(model, show_shapes=True)"
      ],
      "execution_count": null,
      "outputs": [
        {
          "output_type": "execute_result",
          "data": {
            "image/png": "[encoded data removed]",
            "text/plain": [
              "<IPython.core.display.Image object>"
            ]
          },
          "metadata": {
            "tags": []
          },
          "execution_count": 127
        }
      ]
    },
    {
      "cell_type": "code",
      "metadata": {
        "id": "WUjZWU1B9ACt"
      },
      "source": [
        ""
      ],
      "execution_count": null,
      "outputs": []
    }
  ]
}