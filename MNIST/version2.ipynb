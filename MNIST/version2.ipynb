{
  "nbformat": 4,
  "nbformat_minor": 0,
  "metadata": {
    "colab": {
      "name": "version2.ipynb",
      "provenance": [],
      "collapsed_sections": []
    },
    "kernelspec": {
      "display_name": "Python 3",
      "name": "python3"
    }
  },
  "cells": [
    {
      "cell_type": "markdown",
      "metadata": {
        "id": "UHcABHlpL5k_"
      },
      "source": [
        ""
      ]
    },
    {
      "cell_type": "markdown",
      "metadata": {
        "id": "vBXbHSZZ7vS7"
      },
      "source": [
        "# VERSIÓN 2"
      ]
    },
    {
      "cell_type": "code",
      "metadata": {
        "id": "FxN5uLdWWFkQ"
      },
      "source": [
        "import matplotlib.pyplot as plt\n",
        "import tensorflow as tf\n",
        "import numpy as np\n",
        "import time\n",
        "from tensorflow.python.keras.models import Sequential\n",
        "from tensorflow.python.keras.layers import Dense\n",
        "from keras.utils import to_categorical"
      ],
      "execution_count": 1,
      "outputs": []
    },
    {
      "cell_type": "code",
      "metadata": {
        "id": "0CviO651WHPm",
        "colab": {
          "base_uri": "https://localhost:8080/"
        },
        "outputId": "fa8ffcb1-1351-4a05-8bd4-f48ddf828d18"
      },
      "source": [
        "# Se cargan las imágenes del dataset MNIST\n",
        "(training_images, training_labels), (test_images, test_labels) = tf.keras.datasets.mnist.load_data(path=\"mnist.npz\")"
      ],
      "execution_count": 2,
      "outputs": [
        {
          "output_type": "stream",
          "text": [
            "Downloading data from https://storage.googleapis.com/tensorflow/tf-keras-datasets/mnist.npz\n",
            "11493376/11490434 [==============================] - 0s 0us/step\n"
          ],
          "name": "stdout"
        }
      ]
    },
    {
      "cell_type": "code",
      "metadata": {
        "id": "PktYX2q8WI2G"
      },
      "source": [
        "# Función que visualiza un ejemplo\n",
        "def visualize(sample):\n",
        "  image = training_images[sample]\n",
        "  fig = plt.figure\n",
        "  plt.imshow(image.reshape(28,28), cmap='gray')\n",
        "  plt.show()"
      ],
      "execution_count": null,
      "outputs": []
    },
    {
      "cell_type": "markdown",
      "metadata": {
        "id": "GR7uQ_kXWRoK"
      },
      "source": [
        "## PREPARACIÓN DE LOS DATOS"
      ]
    },
    {
      "cell_type": "code",
      "metadata": {
        "id": "K6vfvdQOWRFl"
      },
      "source": [
        "# Se cambia el tipo de los datos a float32\n",
        "training_images = training_images.astype(\"float32\")\n",
        "test_images = test_images.astype(\"float32\")\n",
        "\n",
        "# Las imágenes pasan de matriz 28x28 a vector 784x1\n",
        "training_images = training_images.reshape(60000, 784)\n",
        "test_images = test_images.reshape(10000, 784)\n",
        "\n",
        "# Normalización: los datos pasan a tener un valor entre [0, 1]\n",
        "training_images = training_images / 255\n",
        "test_images = test_images / 255"
      ],
      "execution_count": 3,
      "outputs": []
    },
    {
      "cell_type": "markdown",
      "metadata": {
        "id": "l-Z5jfiijE49"
      },
      "source": [
        "## CONJUNTO DE VALIDACIÓN"
      ]
    },
    {
      "cell_type": "code",
      "metadata": {
        "id": "zcVuGi2gjB6J"
      },
      "source": [
        "# El conjunto de validación es el 20% del conjunto de entrenamiento\n",
        "validation_images = training_images[-12000:]\n",
        "validation_labels = training_labels[-12000:]\n",
        "\n",
        "training_images = training_images[:48000]\n",
        "training_labels = training_labels[:48000]"
      ],
      "execution_count": 4,
      "outputs": []
    },
    {
      "cell_type": "markdown",
      "metadata": {
        "id": "hz23md9WWVht"
      },
      "source": [
        "## ENTRENAMIENTO"
      ]
    },
    {
      "cell_type": "code",
      "metadata": {
        "id": "JX5kB7SfS1Xj",
        "colab": {
          "base_uri": "https://localhost:8080/"
        },
        "outputId": "c51286c2-990a-4fb7-8806-351f5756fc02"
      },
      "source": [
        "model = Sequential()\n",
        "\n",
        "# Se añaden las capas\n",
        "model.add(Dense(10, activation='softmax', input_shape=(784,)))\n",
        "\n",
        "# Se compila el modelo\n",
        "hist = model.compile(\n",
        "  optimizer='rmsprop',\n",
        "  loss='categorical_crossentropy',\n",
        "  metrics=['accuracy'],\n",
        ")\n",
        "\n",
        "# Early Stopping cuando val_loss deja de mejorar\n",
        "earlyStopping = tf.keras.callbacks.EarlyStopping(monitor='val_loss', patience=0)\n",
        "\n",
        "# Se entrena el modelo\n",
        "start = time.time()\n",
        "\n",
        "hist = model.fit(\n",
        "  training_images,\n",
        "  to_categorical(training_labels),\n",
        "  epochs=100,\n",
        "  batch_size=64,\n",
        "  validation_data=(validation_images,to_categorical(validation_labels)),\n",
        "  callbacks=[earlyStopping]\n",
        ")\n",
        "\n",
        "end = time.time()\n",
        "\n",
        "# Se evalua la red neuronal\n",
        "eval = model.evaluate(\n",
        "  test_images,\n",
        "  to_categorical(test_labels)\n",
        ")"
      ],
      "execution_count": 6,
      "outputs": [
        {
          "output_type": "stream",
          "text": [
            "Epoch 1/100\n",
            "750/750 [==============================] - 1s 2ms/step - loss: 0.5536 - accuracy: 0.8585 - val_loss: 0.3254 - val_accuracy: 0.9096\n",
            "Epoch 2/100\n",
            "750/750 [==============================] - 1s 1ms/step - loss: 0.3254 - accuracy: 0.9095 - val_loss: 0.2899 - val_accuracy: 0.9187\n",
            "Epoch 3/100\n",
            "750/750 [==============================] - 1s 1ms/step - loss: 0.3006 - accuracy: 0.9168 - val_loss: 0.2823 - val_accuracy: 0.9210\n",
            "Epoch 4/100\n",
            "750/750 [==============================] - 1s 1ms/step - loss: 0.2892 - accuracy: 0.9194 - val_loss: 0.2763 - val_accuracy: 0.9233\n",
            "Epoch 5/100\n",
            "750/750 [==============================] - 1s 1ms/step - loss: 0.2826 - accuracy: 0.9216 - val_loss: 0.2741 - val_accuracy: 0.9260\n",
            "Epoch 6/100\n",
            "750/750 [==============================] - 1s 1ms/step - loss: 0.2777 - accuracy: 0.9234 - val_loss: 0.2703 - val_accuracy: 0.9261\n",
            "Epoch 7/100\n",
            "750/750 [==============================] - 1s 1ms/step - loss: 0.2747 - accuracy: 0.9249 - val_loss: 0.2674 - val_accuracy: 0.9280\n",
            "Epoch 8/100\n",
            "750/750 [==============================] - 1s 1ms/step - loss: 0.2718 - accuracy: 0.9259 - val_loss: 0.2682 - val_accuracy: 0.9279\n",
            "313/313 [==============================] - 0s 849us/step - loss: 0.2757 - accuracy: 0.9254\n"
          ],
          "name": "stdout"
        }
      ]
    },
    {
      "cell_type": "markdown",
      "metadata": {
        "id": "4FJemkvBWbCa"
      },
      "source": [
        "## PORCENTAJE DE ERROR"
      ]
    },
    {
      "cell_type": "code",
      "metadata": {
        "id": "7SrWwppNPr1Y",
        "colab": {
          "base_uri": "https://localhost:8080/",
          "height": 597
        },
        "outputId": "3faca958-c5ea-4355-e37b-716a478f8fbd"
      },
      "source": [
        "\n",
        "accuracy_val = eval[1]\n",
        "error_val = (1 - accuracy_val)*100\n",
        "\n",
        "accuracy_train = hist.history['accuracy'][-1]\n",
        "error_train = (1 - accuracy_train)*100\n",
        "\n",
        "print(\"Porcentaje de error sobre el conjunto de entrenamiento: \"+str(round(error_train,2)))\n",
        "print(\"Porcentaje de error sobre el conjunto de prueba: \"+str(round(error_val,2)))\n",
        "print(\"Tiempo transcurrido: \"+str(round(end - start,2)))\n",
        "\n",
        "epochs = range(len(hist.history['accuracy']))\n",
        "loss = hist.history['loss']\n",
        "loss_val = hist.history['val_loss']\n",
        "plt.plot(epochs, loss, 'b', label='Training loss')\n",
        "plt.plot(epochs, loss_val, 'r', label='Validation loss')\n",
        "plt.title(\"Loss\")\n",
        "plt.legend()\n",
        "plt.show()\n",
        "accuracy = hist.history['accuracy']\n",
        "accuracy_val = hist.history['val_accuracy']\n",
        "plt.plot(epochs, accuracy, 'b', label='Training accuracy')\n",
        "plt.plot(epochs, accuracy_val, 'r', label='Validation accuracy')\n",
        "plt.legend()\n",
        "plt.title(\"Accuracy\")\n",
        "plt.show()"
      ],
      "execution_count": 7,
      "outputs": [
        {
          "output_type": "stream",
          "text": [
            "Porcentaje de error sobre el conjunto de entrenamiento: 7.41\n",
            "Porcentaje de error sobre el conjunto de prueba: 7.46\n",
            "Tiempo transcurrido: 8.84\n"
          ],
          "name": "stdout"
        },
        {
          "output_type": "display_data",
          "data": {
            "image/png": "[encoded data removed]",
            "text/plain": [
              "<Figure size 432x288 with 1 Axes>"
            ]
          },
          "metadata": {
            "tags": [],
            "needs_background": "light"
          }
        },
        {
          "output_type": "display_data",
          "data": {
            "image/png": "[encoded data removed]",
            "text/plain": [
              "<Figure size 432x288 with 1 Axes>"
            ]
          },
          "metadata": {
            "tags": [],
            "needs_background": "light"
          }
        }
      ]
    },
    {
      "cell_type": "markdown",
      "metadata": {
        "id": "mnNWBAu1lj7N"
      },
      "source": [
        "## VISUALIZACIÓN DE LA RED"
      ]
    },
    {
      "cell_type": "code",
      "metadata": {
        "id": "C3TGUSUHV_-d",
        "colab": {
          "base_uri": "https://localhost:8080/",
          "height": 201
        },
        "outputId": "b1fca4d0-931e-41e6-ce4c-55782e2c64d7"
      },
      "source": [
        "tf.keras.utils.plot_model(model, show_shapes=True)"
      ],
      "execution_count": null,
      "outputs": [
        {
          "output_type": "execute_result",
          "data": {
            "image/png": "[encoded data removed]",
            "text/plain": [
              "<IPython.core.display.Image object>"
            ]
          },
          "metadata": {
            "tags": []
          },
          "execution_count": 24
        }
      ]
    },
    {
      "cell_type": "code",
      "metadata": {
        "id": "wfQp0_n046NH"
      },
      "source": [
        ""
      ],
      "execution_count": null,
      "outputs": []
    },
    {
      "cell_type": "markdown",
      "metadata": {
        "id": "S320GHJu8_h8"
      },
      "source": [
        ""
      ]
    }
  ]
}